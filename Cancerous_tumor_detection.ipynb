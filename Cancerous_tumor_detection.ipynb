{
 "cells": [
  {
   "cell_type": "markdown",
   "id": "e09419e2-0f7e-45cb-88e5-bc214063bce6",
   "metadata": {},
   "source": [
    "# Import of Libraries"
   ]
  },
  {
   "cell_type": "code",
   "execution_count": 1,
   "id": "2f51c495-259b-488e-a389-76c6c8ae3c7c",
   "metadata": {},
   "outputs": [],
   "source": [
    "import pandas as pd\n",
    "import numpy as np\n",
    "import matplotlib.pyplot as plt\n",
    "import seaborn as sn\n",
    "from sklearn.model_selection import train_test_split\n",
    "from sklearn.preprocessing import StandardScaler\n",
    "from sklearn.decomposition import PCA\n",
    "from sklearn import preprocessing\n",
    "from sklearn import decomposition"
   ]
  },
  {
   "cell_type": "markdown",
   "id": "a0e5160f-9255-4cbc-a0d7-e4bafb2b096e",
   "metadata": {},
   "source": [
    "# File read"
   ]
  },
  {
   "cell_type": "code",
   "execution_count": 7,
   "id": "e0c07fbc-a6dc-4f51-b35f-d6d3e94323c0",
   "metadata": {},
   "outputs": [
    {
     "name": "stdout",
     "output_type": "stream",
     "text": [
      "Data from the first CSV file (data11tumors2.csv):\n",
      "     Class   D1   D2   D3  D4   D5   D6    D7   D8    D9  ...  D12524  D12525  \\\n",
      "0        7  153  228   32  30  -36   48   984  -19   537  ...     100      30   \n",
      "1        7  154   99   43  55   66   63  5051  -26  1001  ...      27      43   \n",
      "2        7   84   85   19  28 -104   28  2387  -80  1131  ...     -32      51   \n",
      "3        7  234  169   40  36   81    6  2657   -6  1214  ...      43      52   \n",
      "4        7  104   58   42  13  107    5  3562   18  1464  ...     159      42   \n",
      "..     ...  ...  ...  ...  ..  ...  ...   ...  ...   ...  ...     ...     ...   \n",
      "169      0  157  578   40  58    5  -49    57  -29  3306  ...       4      45   \n",
      "170      0  286  882  110 -19 -142  -66    -5   23  2701  ...     -91     130   \n",
      "171      0  579  667   55 -41  -98 -138  -164  -61  2812  ...    -110     107   \n",
      "172      0  252  582   88   3   44 -162   553 -150  2020  ...     -66      92   \n",
      "173      0   83  420   14  84   12    1   153  -38  1833  ...      -5      85   \n",
      "\n",
      "     D12526  D12527  D12528  D12529  D12530  D12531  D12532  D12533  \n",
      "0        83      28      57     106     128       5      74    -188  \n",
      "1        90      30      82     485     896      -2      91     -78  \n",
      "2       110      10      86      62      76     -47      92    -103  \n",
      "3        82      12     135      60      69      22      89    -180  \n",
      "4        73       1      82      60      50      30      74    -198  \n",
      "..      ...     ...     ...     ...     ...     ...     ...     ...  \n",
      "169      64      37     169      91     180      -4      60    -142  \n",
      "170     137     -61      75      36      58      44     161    -433  \n",
      "171     199     -60      59       8      77     -42     171    -371  \n",
      "172     -26     -44     148      43      73       0     201    -333  \n",
      "173      96      92      67      32      30      12      80    -180  \n",
      "\n",
      "[174 rows x 12534 columns]\n",
      "\n",
      "Data from the second CSV file (plasma_tumor.csv):\n",
      "     Class   D1   D2   D3  D4   D5   D6    D7   D8    D9  ...  D12524  D12525  \\\n",
      "0        6  164  235   27  37  -36   47   962    1   534  ...      91      26   \n",
      "1        6  160   91   45  62   72   57  5079  -30   993  ...      24      46   \n",
      "2        7   89   66   18  28 -105   27  2487  -69  1067  ...     -25      49   \n",
      "3        7  227  158   41  34   86    7  2626  -79  1260  ...      32      50   \n",
      "4        7   96   77   40  12  122    5  3505   63  1481  ...     162      39   \n",
      "..     ...  ...  ...  ...  ..  ...  ...   ...  ...   ...  ...     ...     ...   \n",
      "169      0  156  558   39  54   -6  -52    67   29  3263  ...       8      48   \n",
      "170      0  290  854  111 -18 -142  -63   -72   -1  2709  ...     -88     127   \n",
      "171      0  578  678   58 -36 -102 -135  -221 -113  2849  ...    -113     109   \n",
      "172      0  246  583   87   0   41 -162   508 -192  2007  ...     -64      89   \n",
      "173      0   83  415   13  89   13    5   201 -101  1864  ...      -3      86   \n",
      "\n",
      "     D12526  D12527  D12528  D12529  D12530  D12531  D12532  D12533  \n",
      "0        78      26      57     102     134       5      20    -175  \n",
      "1        88      27      75     480     892      -2     115     -76  \n",
      "2       111       9      78      56      79     -46     117    -108  \n",
      "3        78      12     140      63      59      22      73    -178  \n",
      "4        80      -3      81      61      59      29      83    -208  \n",
      "..      ...     ...     ...     ...     ...     ...     ...     ...  \n",
      "169      61      38     168      93     183      -5      81    -148  \n",
      "170     135     -61      80      35      58      43     165    -429  \n",
      "171     199     -60      53      10      77     -42     173    -366  \n",
      "172     -18     -39     151      36      71      -1     233    -341  \n",
      "173      92      98      65      31      23      11      70    -174  \n",
      "\n",
      "[174 rows x 12534 columns]\n",
      "\n",
      "Data from the third CSV file (brain_tumor.csv):\n",
      "     Class   D1   D2   D3  D4   D5   D6    D7   D8    D9  ...  D12524  D12525  \\\n",
      "0        7  149  235   33  20  -40   52   905  -24   547  ...      95      31   \n",
      "1        6  154   89   44  61   62   62  4955  -14   988  ...      26      40   \n",
      "2        6   87   82   18  21 -107   28  2347 -166  1167  ...     -38      53   \n",
      "3        6  239  150   40  40   95    6  2624   32  1188  ...      47      56   \n",
      "4        6  104   47   47  19  113    4  3618    3  1476  ...     165      45   \n",
      "..     ...  ...  ...  ...  ..  ...  ...   ...  ...   ...  ...     ...     ...   \n",
      "169      0  150  578   40  59   16  -51    16  -31  3280  ...       6      45   \n",
      "170      0  292  900  111 -17 -132  -67   -33  -50  2676  ...     -94     128   \n",
      "171      0  592  665   54 -39 -101 -131  -160  -36  2735  ...    -108     104   \n",
      "172      0  252  575   88   4   44 -167   576 -119  2045  ...     -63      95   \n",
      "173      0   99  410   15  86    5    1   115  -40  1744  ...      -2      79   \n",
      "\n",
      "     D12526  D12527  D12528  D12529  D12530  D12531  D12532  D12533  \n",
      "0        84      28      59     102     132       5      54    -202  \n",
      "1        91      32      82     482     889      -4      97     -65  \n",
      "2       108       8      85      58      72     -47      94     -94  \n",
      "3        79      10     132      58      71      21      74    -181  \n",
      "4        68      -1      81      59      33      29      86    -182  \n",
      "..      ...     ...     ...     ...     ...     ...     ...     ...  \n",
      "169      66      38     167      87     176      -2      59    -127  \n",
      "170     131     -66      73      31      63      45     184    -413  \n",
      "171     195     -59      62       0      77     -41     165    -379  \n",
      "172     -25     -44     148      44      75       0     214    -332  \n",
      "173      94      92      72      31      17      11      65    -177  \n",
      "\n",
      "[174 rows x 12534 columns]\n"
     ]
    }
   ],
   "source": [
    "# Set display options\n",
    "pd.set_option(\"display.max_rows\", 15)\n",
    "pd.options.mode.chained_assignment = None\n",
    "\n",
    "# File paths\n",
    "dataset_folder = 'Datasets'\n",
    "filename1 = f'{dataset_folder}/data11tumors2.csv'\n",
    "filename2 = f'{dataset_folder}/plasma_tumor.csv'\n",
    "filename3 = f'{dataset_folder}/brain_tumor.csv'\n",
    "\n",
    "# Reading the CSV files\n",
    "training_data1 = pd.read_csv(filename1)\n",
    "training_data2 = pd.read_csv(filename2)\n",
    "training_data3 = pd.read_csv(filename3)\n",
    "\n",
    "# Displaying the data from the three CSV files\n",
    "print(\"Data from the first CSV file (data11tumors2.csv):\")\n",
    "print(training_data1)\n",
    "print(\"\\nData from the second CSV file (plasma_tumor.csv):\")\n",
    "print(training_data2)\n",
    "print(\"\\nData from the third CSV file (brain_tumor.csv):\")\n",
    "print(training_data3)\n"
   ]
  },
  {
   "cell_type": "markdown",
   "id": "3f7bec5e-1c49-440f-99ec-fb30271bb8e6",
   "metadata": {},
   "source": [
    "# Concatenating data"
   ]
  },
  {
   "cell_type": "code",
   "execution_count": 8,
   "id": "febe07e8-3f5e-4cb4-993b-89781f6135f7",
   "metadata": {},
   "outputs": [
    {
     "name": "stdout",
     "output_type": "stream",
     "text": [
      "     Class   D1   D2   D3  D4   D5   D6    D7   D8    D9  ...  D12524  D12525  \\\n",
      "0        7  153  228   32  30  -36   48   984  -19   537  ...     100      30   \n",
      "1        7  154   99   43  55   66   63  5051  -26  1001  ...      27      43   \n",
      "2        7   84   85   19  28 -104   28  2387  -80  1131  ...     -32      51   \n",
      "3        7  234  169   40  36   81    6  2657   -6  1214  ...      43      52   \n",
      "4        7  104   58   42  13  107    5  3562   18  1464  ...     159      42   \n",
      "..     ...  ...  ...  ...  ..  ...  ...   ...  ...   ...  ...     ...     ...   \n",
      "517      0  150  578   40  59   16  -51    16  -31  3280  ...       6      45   \n",
      "518      0  292  900  111 -17 -132  -67   -33  -50  2676  ...     -94     128   \n",
      "519      0  592  665   54 -39 -101 -131  -160  -36  2735  ...    -108     104   \n",
      "520      0  252  575   88   4   44 -167   576 -119  2045  ...     -63      95   \n",
      "521      0   99  410   15  86    5    1   115  -40  1744  ...      -2      79   \n",
      "\n",
      "     D12526  D12527  D12528  D12529  D12530  D12531  D12532  D12533  \n",
      "0        83      28      57     106     128       5      74    -188  \n",
      "1        90      30      82     485     896      -2      91     -78  \n",
      "2       110      10      86      62      76     -47      92    -103  \n",
      "3        82      12     135      60      69      22      89    -180  \n",
      "4        73       1      82      60      50      30      74    -198  \n",
      "..      ...     ...     ...     ...     ...     ...     ...     ...  \n",
      "517      66      38     167      87     176      -2      59    -127  \n",
      "518     131     -66      73      31      63      45     184    -413  \n",
      "519     195     -59      62       0      77     -41     165    -379  \n",
      "520     -25     -44     148      44      75       0     214    -332  \n",
      "521      94      92      72      31      17      11      65    -177  \n",
      "\n",
      "[522 rows x 12534 columns]\n"
     ]
    }
   ],
   "source": [
    "# Concatenate the dataframes\n",
    "training_data = pd.concat([training_data1, training_data2, training_data3], ignore_index=True)\n",
    "\n",
    "# Display the combined dataframe\n",
    "print(training_data)\n"
   ]
  },
  {
   "cell_type": "markdown",
   "id": "3cea546c-5394-4ea7-a611-05179c699e2d",
   "metadata": {},
   "source": [
    "# Basic statistics "
   ]
  },
  {
   "cell_type": "code",
   "execution_count": 9,
   "id": "6ac76583-d109-462c-9223-6352eac8be0a",
   "metadata": {},
   "outputs": [
    {
     "data": {
      "text/html": [
       "<div>\n",
       "<style scoped>\n",
       "    .dataframe tbody tr th:only-of-type {\n",
       "        vertical-align: middle;\n",
       "    }\n",
       "\n",
       "    .dataframe tbody tr th {\n",
       "        vertical-align: top;\n",
       "    }\n",
       "\n",
       "    .dataframe thead th {\n",
       "        text-align: right;\n",
       "    }\n",
       "</style>\n",
       "<table border=\"1\" class=\"dataframe\">\n",
       "  <thead>\n",
       "    <tr style=\"text-align: right;\">\n",
       "      <th></th>\n",
       "      <th>Class</th>\n",
       "      <th>D1</th>\n",
       "      <th>D2</th>\n",
       "      <th>D3</th>\n",
       "      <th>D4</th>\n",
       "      <th>D5</th>\n",
       "      <th>D6</th>\n",
       "      <th>D7</th>\n",
       "      <th>D8</th>\n",
       "      <th>D9</th>\n",
       "      <th>...</th>\n",
       "      <th>D12524</th>\n",
       "      <th>D12525</th>\n",
       "      <th>D12526</th>\n",
       "      <th>D12527</th>\n",
       "      <th>D12528</th>\n",
       "      <th>D12529</th>\n",
       "      <th>D12530</th>\n",
       "      <th>D12531</th>\n",
       "      <th>D12532</th>\n",
       "      <th>D12533</th>\n",
       "    </tr>\n",
       "  </thead>\n",
       "  <tbody>\n",
       "    <tr>\n",
       "      <th>count</th>\n",
       "      <td>522.000000</td>\n",
       "      <td>522.000000</td>\n",
       "      <td>522.000000</td>\n",
       "      <td>522.000000</td>\n",
       "      <td>522.000000</td>\n",
       "      <td>522.000000</td>\n",
       "      <td>522.000000</td>\n",
       "      <td>522.000000</td>\n",
       "      <td>522.000000</td>\n",
       "      <td>522.000000</td>\n",
       "      <td>...</td>\n",
       "      <td>522.000000</td>\n",
       "      <td>522.000000</td>\n",
       "      <td>522.000000</td>\n",
       "      <td>522.000000</td>\n",
       "      <td>522.000000</td>\n",
       "      <td>522.000000</td>\n",
       "      <td>522.000000</td>\n",
       "      <td>522.000000</td>\n",
       "      <td>522.000000</td>\n",
       "      <td>522.000000</td>\n",
       "    </tr>\n",
       "    <tr>\n",
       "      <th>mean</th>\n",
       "      <td>4.126437</td>\n",
       "      <td>218.344828</td>\n",
       "      <td>537.446360</td>\n",
       "      <td>71.601533</td>\n",
       "      <td>83.657088</td>\n",
       "      <td>-67.272031</td>\n",
       "      <td>-16.519157</td>\n",
       "      <td>646.197318</td>\n",
       "      <td>76.814176</td>\n",
       "      <td>1471.726054</td>\n",
       "      <td>...</td>\n",
       "      <td>-1.365900</td>\n",
       "      <td>92.829502</td>\n",
       "      <td>137.699234</td>\n",
       "      <td>2.913793</td>\n",
       "      <td>97.848659</td>\n",
       "      <td>62.722222</td>\n",
       "      <td>101.703065</td>\n",
       "      <td>12.808429</td>\n",
       "      <td>206.946360</td>\n",
       "      <td>-220.392720</td>\n",
       "    </tr>\n",
       "    <tr>\n",
       "      <th>std</th>\n",
       "      <td>3.173685</td>\n",
       "      <td>117.286482</td>\n",
       "      <td>269.053809</td>\n",
       "      <td>43.737551</td>\n",
       "      <td>122.380386</td>\n",
       "      <td>140.971045</td>\n",
       "      <td>62.735473</td>\n",
       "      <td>1090.246726</td>\n",
       "      <td>861.409973</td>\n",
       "      <td>648.749238</td>\n",
       "      <td>...</td>\n",
       "      <td>95.986395</td>\n",
       "      <td>45.916302</td>\n",
       "      <td>67.569454</td>\n",
       "      <td>44.221548</td>\n",
       "      <td>95.636799</td>\n",
       "      <td>80.497860</td>\n",
       "      <td>127.209101</td>\n",
       "      <td>27.205158</td>\n",
       "      <td>402.859135</td>\n",
       "      <td>216.994434</td>\n",
       "    </tr>\n",
       "    <tr>\n",
       "      <th>min</th>\n",
       "      <td>0.000000</td>\n",
       "      <td>-124.000000</td>\n",
       "      <td>12.000000</td>\n",
       "      <td>-24.000000</td>\n",
       "      <td>-83.000000</td>\n",
       "      <td>-916.000000</td>\n",
       "      <td>-208.000000</td>\n",
       "      <td>-559.000000</td>\n",
       "      <td>-227.000000</td>\n",
       "      <td>-19.000000</td>\n",
       "      <td>...</td>\n",
       "      <td>-239.000000</td>\n",
       "      <td>10.000000</td>\n",
       "      <td>-26.000000</td>\n",
       "      <td>-146.000000</td>\n",
       "      <td>-349.000000</td>\n",
       "      <td>-187.000000</td>\n",
       "      <td>-79.000000</td>\n",
       "      <td>-56.000000</td>\n",
       "      <td>7.000000</td>\n",
       "      <td>-992.000000</td>\n",
       "    </tr>\n",
       "    <tr>\n",
       "      <th>25%</th>\n",
       "      <td>2.000000</td>\n",
       "      <td>148.250000</td>\n",
       "      <td>359.000000</td>\n",
       "      <td>44.000000</td>\n",
       "      <td>24.250000</td>\n",
       "      <td>-132.000000</td>\n",
       "      <td>-58.000000</td>\n",
       "      <td>-40.000000</td>\n",
       "      <td>-75.000000</td>\n",
       "      <td>1045.500000</td>\n",
       "      <td>...</td>\n",
       "      <td>-54.000000</td>\n",
       "      <td>60.000000</td>\n",
       "      <td>92.250000</td>\n",
       "      <td>-19.000000</td>\n",
       "      <td>44.250000</td>\n",
       "      <td>14.000000</td>\n",
       "      <td>19.250000</td>\n",
       "      <td>-4.000000</td>\n",
       "      <td>97.000000</td>\n",
       "      <td>-328.750000</td>\n",
       "    </tr>\n",
       "    <tr>\n",
       "      <th>50%</th>\n",
       "      <td>3.000000</td>\n",
       "      <td>208.500000</td>\n",
       "      <td>515.000000</td>\n",
       "      <td>65.000000</td>\n",
       "      <td>64.500000</td>\n",
       "      <td>-46.000000</td>\n",
       "      <td>-13.000000</td>\n",
       "      <td>135.500000</td>\n",
       "      <td>-36.000000</td>\n",
       "      <td>1425.500000</td>\n",
       "      <td>...</td>\n",
       "      <td>-5.000000</td>\n",
       "      <td>88.000000</td>\n",
       "      <td>131.000000</td>\n",
       "      <td>7.000000</td>\n",
       "      <td>113.000000</td>\n",
       "      <td>44.000000</td>\n",
       "      <td>71.000000</td>\n",
       "      <td>9.000000</td>\n",
       "      <td>145.000000</td>\n",
       "      <td>-213.500000</td>\n",
       "    </tr>\n",
       "    <tr>\n",
       "      <th>75%</th>\n",
       "      <td>7.000000</td>\n",
       "      <td>284.500000</td>\n",
       "      <td>702.000000</td>\n",
       "      <td>88.000000</td>\n",
       "      <td>110.750000</td>\n",
       "      <td>27.000000</td>\n",
       "      <td>24.750000</td>\n",
       "      <td>853.250000</td>\n",
       "      <td>2.000000</td>\n",
       "      <td>1770.000000</td>\n",
       "      <td>...</td>\n",
       "      <td>42.000000</td>\n",
       "      <td>119.000000</td>\n",
       "      <td>169.000000</td>\n",
       "      <td>32.750000</td>\n",
       "      <td>157.000000</td>\n",
       "      <td>95.750000</td>\n",
       "      <td>145.000000</td>\n",
       "      <td>26.000000</td>\n",
       "      <td>212.000000</td>\n",
       "      <td>-142.000000</td>\n",
       "    </tr>\n",
       "    <tr>\n",
       "      <th>max</th>\n",
       "      <td>10.000000</td>\n",
       "      <td>625.000000</td>\n",
       "      <td>1423.000000</td>\n",
       "      <td>249.000000</td>\n",
       "      <td>1307.000000</td>\n",
       "      <td>271.000000</td>\n",
       "      <td>141.000000</td>\n",
       "      <td>5224.000000</td>\n",
       "      <td>10019.000000</td>\n",
       "      <td>4188.000000</td>\n",
       "      <td>...</td>\n",
       "      <td>452.000000</td>\n",
       "      <td>271.000000</td>\n",
       "      <td>414.000000</td>\n",
       "      <td>101.000000</td>\n",
       "      <td>481.000000</td>\n",
       "      <td>485.000000</td>\n",
       "      <td>896.000000</td>\n",
       "      <td>110.000000</td>\n",
       "      <td>4920.000000</td>\n",
       "      <td>1356.000000</td>\n",
       "    </tr>\n",
       "  </tbody>\n",
       "</table>\n",
       "<p>8 rows × 12534 columns</p>\n",
       "</div>"
      ],
      "text/plain": [
       "            Class          D1           D2          D3           D4  \\\n",
       "count  522.000000  522.000000   522.000000  522.000000   522.000000   \n",
       "mean     4.126437  218.344828   537.446360   71.601533    83.657088   \n",
       "std      3.173685  117.286482   269.053809   43.737551   122.380386   \n",
       "min      0.000000 -124.000000    12.000000  -24.000000   -83.000000   \n",
       "25%      2.000000  148.250000   359.000000   44.000000    24.250000   \n",
       "50%      3.000000  208.500000   515.000000   65.000000    64.500000   \n",
       "75%      7.000000  284.500000   702.000000   88.000000   110.750000   \n",
       "max     10.000000  625.000000  1423.000000  249.000000  1307.000000   \n",
       "\n",
       "               D5          D6           D7            D8           D9  ...  \\\n",
       "count  522.000000  522.000000   522.000000    522.000000   522.000000  ...   \n",
       "mean   -67.272031  -16.519157   646.197318     76.814176  1471.726054  ...   \n",
       "std    140.971045   62.735473  1090.246726    861.409973   648.749238  ...   \n",
       "min   -916.000000 -208.000000  -559.000000   -227.000000   -19.000000  ...   \n",
       "25%   -132.000000  -58.000000   -40.000000    -75.000000  1045.500000  ...   \n",
       "50%    -46.000000  -13.000000   135.500000    -36.000000  1425.500000  ...   \n",
       "75%     27.000000   24.750000   853.250000      2.000000  1770.000000  ...   \n",
       "max    271.000000  141.000000  5224.000000  10019.000000  4188.000000  ...   \n",
       "\n",
       "           D12524      D12525      D12526      D12527      D12528      D12529  \\\n",
       "count  522.000000  522.000000  522.000000  522.000000  522.000000  522.000000   \n",
       "mean    -1.365900   92.829502  137.699234    2.913793   97.848659   62.722222   \n",
       "std     95.986395   45.916302   67.569454   44.221548   95.636799   80.497860   \n",
       "min   -239.000000   10.000000  -26.000000 -146.000000 -349.000000 -187.000000   \n",
       "25%    -54.000000   60.000000   92.250000  -19.000000   44.250000   14.000000   \n",
       "50%     -5.000000   88.000000  131.000000    7.000000  113.000000   44.000000   \n",
       "75%     42.000000  119.000000  169.000000   32.750000  157.000000   95.750000   \n",
       "max    452.000000  271.000000  414.000000  101.000000  481.000000  485.000000   \n",
       "\n",
       "           D12530      D12531       D12532       D12533  \n",
       "count  522.000000  522.000000   522.000000   522.000000  \n",
       "mean   101.703065   12.808429   206.946360  -220.392720  \n",
       "std    127.209101   27.205158   402.859135   216.994434  \n",
       "min    -79.000000  -56.000000     7.000000  -992.000000  \n",
       "25%     19.250000   -4.000000    97.000000  -328.750000  \n",
       "50%     71.000000    9.000000   145.000000  -213.500000  \n",
       "75%    145.000000   26.000000   212.000000  -142.000000  \n",
       "max    896.000000  110.000000  4920.000000  1356.000000  \n",
       "\n",
       "[8 rows x 12534 columns]"
      ]
     },
     "execution_count": 9,
     "metadata": {},
     "output_type": "execute_result"
    }
   ],
   "source": [
    "training_data.describe()"
   ]
  },
  {
   "cell_type": "markdown",
   "id": "9998e6f6-e035-4cbd-b9b7-100559299681",
   "metadata": {},
   "source": [
    "# class distribution"
   ]
  },
  {
   "cell_type": "code",
   "execution_count": 10,
   "id": "f027d8cb-9dcf-4fb9-b478-cfc6d7033e6d",
   "metadata": {},
   "outputs": [
    {
     "name": "stdout",
     "output_type": "stream",
     "text": [
      "Class\n",
      "0     91\n",
      "1     35\n",
      "2     81\n",
      "3     59\n",
      "4     34\n",
      "5     25\n",
      "6     47\n",
      "7     54\n",
      "8     29\n",
      "9     43\n",
      "10    24\n",
      "dtype: int64\n"
     ]
    }
   ],
   "source": [
    "# class distribution\n",
    "print(training_data.groupby('Class').size())"
   ]
  },
  {
   "cell_type": "markdown",
   "id": "98b0a9ce-8bec-498b-808f-4715fb04fc24",
   "metadata": {},
   "source": [
    "# Separation of labels and features "
   ]
  },
  {
   "cell_type": "code",
   "execution_count": 11,
   "id": "77ae71bc-8c1d-49cb-97b1-5fd2b2d0fa80",
   "metadata": {
    "scrolled": true
   },
   "outputs": [
    {
     "data": {
      "text/plain": [
       "array([ 7,  7,  7,  7,  7,  7,  7,  7,  7,  7,  1,  1,  1,  1,  1,  1,  1,\n",
       "        1,  2,  2,  2,  2,  2,  2,  2,  2,  2,  2,  2,  2,  3,  3,  3,  3,\n",
       "        3,  3,  3,  3,  3,  3,  3,  4,  4,  4,  4,  4,  4,  4,  4,  4,  4,\n",
       "        4,  5,  5,  5,  5,  5,  5,  5,  5,  5,  5,  6,  6,  6,  6,  6,  6,\n",
       "        0,  0,  0,  0,  0,  0,  0,  0,  0,  8,  8,  8,  8,  8,  8,  9,  9,\n",
       "        9,  9,  9,  9,  9,  9,  9, 10, 10, 10, 10, 10, 10, 10, 10,  2, 10,\n",
       "        4,  3,  0,  6,  0,  0,  3,  2,  9, 10,  7,  7,  2,  2,  5,  2,  0,\n",
       "        9,  3,  3,  3,  3,  3,  3,  3,  3,  3,  3,  9, 10,  9, 10, 10,  9,\n",
       "       10,  2,  2,  2,  2,  2,  2,  2,  2,  2,  7,  7,  7,  7,  7,  7,  7,\n",
       "        7,  7,  7,  7,  7,  7,  7,  0,  0,  0,  0,  0,  0,  0,  0,  0,  0,\n",
       "        0,  0,  0,  0,  6,  6,  7,  7,  7,  7,  7,  7,  6,  7,  1,  1,  0,\n",
       "        0,  0,  0,  1,  0,  2,  2,  1,  2,  2,  1,  1,  1,  1,  2,  2,  2,\n",
       "        3,  3,  3,  3,  3,  3,  2,  2,  3,  3,  3,  3,  4,  4,  3,  4,  3,\n",
       "        4,  4,  3,  4,  3,  5,  4,  4,  4,  4,  5,  4,  5,  5,  4,  5,  6,\n",
       "        6,  6,  6,  6,  0,  0,  0,  0,  0,  0,  0,  0,  0,  7,  8,  7,  8,\n",
       "        8,  8,  8,  9,  8,  9,  8,  8,  9,  9,  8,  9, 10, 10,  9, 10, 10,\n",
       "       10,  9,  1,  9,  3,  3,  0,  5,  0,  0,  3,  2,  8,  9,  7,  7,  2,\n",
       "        1,  4,  2,  0,  8,  3,  2,  3,  2,  2,  2,  2,  2,  3,  3,  8,  9,\n",
       "        9,  9,  9,  9,  9,  2,  2,  2,  2,  2,  1,  2,  2,  1,  6,  6,  6,\n",
       "        6,  6,  6,  6,  6,  6,  6,  7,  6,  6,  6,  0,  0,  0,  0,  0,  0,\n",
       "        0,  0,  0,  0,  0,  0,  0,  0,  7,  6,  6,  6,  6,  6,  7,  7,  6,\n",
       "        7,  0,  1,  0,  0,  1,  1,  0,  0,  2,  1,  2,  1,  2,  1,  2,  2,\n",
       "        2,  2,  2,  2,  3,  3,  2,  2,  2,  2,  3,  2,  3,  2,  2,  3,  4,\n",
       "        3,  4,  3,  3,  4,  3,  4,  3,  3,  4,  5,  5,  5,  4,  5,  4,  5,\n",
       "        5,  4,  6,  5,  5,  6,  6,  6,  0,  0,  0,  0,  0,  0,  0,  0,  0,\n",
       "        7,  8,  7,  7,  8,  7,  8,  8,  9,  8,  8,  9,  8,  8,  8, 10, 10,\n",
       "        9,  9,  9,  9, 10,  9,  1,  9,  3,  3,  0,  6,  0,  0,  3,  1,  9,\n",
       "        9,  7,  7,  1,  1,  4,  2,  0,  8,  2,  2,  2,  2,  3,  2,  2,  2,\n",
       "        2,  2,  9,  9,  9, 10, 10,  8,  9,  1,  2,  2,  1,  2,  2,  1,  1,\n",
       "        1,  7,  6,  7,  7,  7,  6,  6,  7,  6,  7,  6,  6,  6,  6,  0,  0,\n",
       "        0,  0,  0,  0,  0,  0,  0,  0,  0,  0,  0,  0], dtype=int64)"
      ]
     },
     "execution_count": 11,
     "metadata": {},
     "output_type": "execute_result"
    }
   ],
   "source": [
    "label_vectors = training_data['Class'].values\n",
    "feature_vectors = training_data.drop(['Class'], axis=1).values\n",
    "label_vectors"
   ]
  },
  {
   "cell_type": "markdown",
   "id": "9222ba2c-f0c2-4973-8b2e-da55a0f4c377",
   "metadata": {},
   "source": [
    "# Information scaling"
   ]
  },
  {
   "cell_type": "code",
   "execution_count": 24,
   "id": "bfe67693-2aa0-4869-91f5-aba1ded01148",
   "metadata": {},
   "outputs": [],
   "source": [
    "scaler = preprocessing.StandardScaler().fit(feature_vectors)\n",
    "feature_vectors_scaler = scaler.transform(feature_vectors)"
   ]
  },
  {
   "cell_type": "markdown",
   "id": "598c81b0-ad04-49f8-b637-f7315e05233f",
   "metadata": {},
   "source": [
    "# Information Split - without scaling"
   ]
  },
  {
   "cell_type": "code",
   "execution_count": 19,
   "id": "c21e910e-a60c-4996-a8c8-eb173d86192e",
   "metadata": {},
   "outputs": [
    {
     "data": {
      "text/plain": [
       "(417, 12533)"
      ]
     },
     "execution_count": 19,
     "metadata": {},
     "output_type": "execute_result"
    }
   ],
   "source": [
    "validation_size = 0.2\n",
    "seed = 7\n",
    "X_train, X_validation, Y_train, Y_validation = train_test_split(feature_vectors, label_vectors, test_size=validation_size, random_state=seed)\n",
    "X_train.shape"
   ]
  },
  {
   "cell_type": "markdown",
   "id": "768d384d-ea9b-4d9c-b1bc-eae4b53b1bd2",
   "metadata": {},
   "source": [
    "# Information Split with scaling"
   ]
  },
  {
   "cell_type": "code",
   "execution_count": 20,
   "id": "11315261-ef5c-484e-8039-c860d0f091bb",
   "metadata": {},
   "outputs": [],
   "source": [
    "validation_size = 0.2\n",
    "seed = 7\n",
    "X_trainScaler, X_validationScaler, Y_trainScaler, Y_validationScaler = train_test_split(feature_vectors_scaler, label_vectors, \n",
    "                                                                                        test_size=validation_size, \n",
    "                                                                                        random_state=seed)"
   ]
  },
  {
   "cell_type": "markdown",
   "id": "8d054f92-f607-4f69-b640-5850be056b22",
   "metadata": {},
   "source": [
    "# PCA - without scaling"
   ]
  },
  {
   "cell_type": "code",
   "execution_count": 21,
   "id": "cfade6fc-65d7-4c9e-b4a4-25857cf11793",
   "metadata": {},
   "outputs": [
    {
     "name": "stdout",
     "output_type": "stream",
     "text": [
      "X_PCA: (417, 98)\n"
     ]
    }
   ],
   "source": [
    "pca = decomposition.PCA(n_components=0.96,svd_solver='full',tol=1e-4)\n",
    "pca.fit(X_train)\n",
    "X_trainPCA = pca.transform(X_train)\n",
    "X_validationPCA=pca.transform(X_validation)\n",
    "print('X_PCA:',X_trainPCA.shape)"
   ]
  },
  {
   "cell_type": "markdown",
   "id": "4445ca7e-1ce0-4c59-80ff-fa254235d205",
   "metadata": {},
   "source": [
    "# PCA - with scaling"
   ]
  },
  {
   "cell_type": "code",
   "execution_count": 22,
   "id": "f1fb1b15-27bb-4407-88a8-360279c1a34e",
   "metadata": {},
   "outputs": [
    {
     "name": "stdout",
     "output_type": "stream",
     "text": [
      "X_PCA: (417, 138)\n"
     ]
    }
   ],
   "source": [
    "pca = decomposition.PCA(n_components=0.96,svd_solver='full',tol=1e-4)\n",
    "pca.fit(feature_vectors)\n",
    "feature_vectorsPCA = pca.transform(feature_vectors)\n",
    "\n",
    "pca = decomposition.PCA(n_components=0.96,svd_solver='full',tol=1e-4)\n",
    "pca.fit(feature_vectors_scaler)\n",
    "feature_vectorsPCA_Scaler = pca.transform(feature_vectors_scaler)\n",
    "\n",
    "pca = decomposition.PCA(n_components=0.96,svd_solver='full',tol=1e-4)\n",
    "pca.fit(X_trainScaler)\n",
    "X_trainPCAScaler = pca.transform(X_trainScaler)\n",
    "X_validationPCAScaler=pca.transform(X_validationScaler)\n",
    "print('X_PCA:',X_trainPCAScaler.shape)"
   ]
  },
  {
   "cell_type": "code",
   "execution_count": null,
   "id": "b015dde9-84bd-454a-b6f9-0798cecf8f27",
   "metadata": {},
   "outputs": [],
   "source": []
  }
 ],
 "metadata": {
  "kernelspec": {
   "display_name": "Python 3 (ipykernel)",
   "language": "python",
   "name": "python3"
  },
  "language_info": {
   "codemirror_mode": {
    "name": "ipython",
    "version": 3
   },
   "file_extension": ".py",
   "mimetype": "text/x-python",
   "name": "python",
   "nbconvert_exporter": "python",
   "pygments_lexer": "ipython3",
   "version": "3.11.2"
  }
 },
 "nbformat": 4,
 "nbformat_minor": 5
}
